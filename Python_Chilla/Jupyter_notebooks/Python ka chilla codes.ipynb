{
 "cells": [
  {
   "cell_type": "markdown",
   "id": "5be7038e",
   "metadata": {},
   "source": [
    "# Python ka chilla with Baba Ammar"
   ]
  },
  {
   "cell_type": "markdown",
   "id": "d27757b2",
   "metadata": {},
   "source": [
    "**01_first program**"
   ]
  },
  {
   "cell_type": "code",
   "execution_count": 1,
   "id": "ac4d84e7",
   "metadata": {},
   "outputs": [
    {
     "name": "stdout",
     "output_type": "stream",
     "text": [
      "7\n",
      "hello\n"
     ]
    }
   ],
   "source": [
    "print(2+5)\n",
    "print(\"hello\")"
   ]
  },
  {
   "cell_type": "markdown",
   "id": "7d9b078d",
   "metadata": {},
   "source": [
    "**02-operators**"
   ]
  },
  {
   "cell_type": "code",
   "execution_count": 2,
   "id": "81b8f8f8",
   "metadata": {},
   "outputs": [
    {
     "name": "stdout",
     "output_type": "stream",
     "text": [
      "5\n",
      "2\n",
      "2\n",
      "24\n",
      "1\n"
     ]
    }
   ],
   "source": [
    "print(2+3)\n",
    "print(6%4)\n",
    "print(6-4)\n",
    "print(6*4)\n",
    "print(6//4)\n"
   ]
  },
  {
   "cell_type": "markdown",
   "id": "54cbe476",
   "metadata": {},
   "source": [
    "\n",
    "for combine operators, it work by PEMDAS rule\n",
    "\n",
    "print (5**2/2*4+5-1/3*2) # e.g., brakets, then power, then divisoin, then mulitiplicaation, then addition, then subtraction, then mulitplication. However, # Also, python executes the operators from left to right for M D & A S\n",
    "\n",
    "print(5-1/3*2) # e.g., here it divide first then multiply and then subtract\n",
    "\n",
    "** in VS is for power"
   ]
  },
  {
   "cell_type": "markdown",
   "id": "ce8d9b63",
   "metadata": {},
   "source": [
    "**03- strings**"
   ]
  },
  {
   "cell_type": "markdown",
   "id": "1810bc09",
   "metadata": {},
   "source": [
    "any thing written in single, double, tripple qoutations is string"
   ]
  },
  {
   "cell_type": "code",
   "execution_count": 3,
   "id": "71ebed0a",
   "metadata": {},
   "outputs": [
    {
     "name": "stdout",
     "output_type": "stream",
     "text": [
      "hi\n",
      "hello\n",
      " Hello\n"
     ]
    }
   ],
   "source": [
    "print ('hi')\n",
    "print (\"hello\")\n",
    "print(''' Hello''') # spaces inside the strings will have impact."
   ]
  },
  {
   "cell_type": "markdown",
   "id": "8f745b9e",
   "metadata": {},
   "source": [
    "04- comments"
   ]
  },
  {
   "cell_type": "markdown",
   "id": "650e1667",
   "metadata": {},
   "source": [
    "I know what it means by commenting, shortcut key in ptyhon is ctrl+/  # I know what it means by commenting, shortcut key in ptyhon is ctrl+/ "
   ]
  },
  {
   "cell_type": "markdown",
   "id": "8e64d708",
   "metadata": {},
   "source": [
    "05- variables"
   ]
  },
  {
   "cell_type": "code",
   "execution_count": 4,
   "id": "441492c1",
   "metadata": {},
   "outputs": [
    {
     "name": "stdout",
     "output_type": "stream",
     "text": [
      "3\n",
      "i am learing python\n",
      "10\n",
      "<class 'int'>\n",
      "<class 'str'>\n",
      "<class 'str'>\n",
      "<class 'int'>\n"
     ]
    }
   ],
   "source": [
    "# Objects containing a value \n",
    "x=3 # integer variable\n",
    "print(x)\n",
    "y=\"i am learing python\" # sting variable\n",
    "print (y)\n",
    "# remember, the code runs line by line, i.e., if we change a varaible later, it will get the later value\n",
    "x=10\n",
    "print(x)\n",
    "# types/class of variable\n",
    "type(x)\n",
    "print(type(x))\n",
    "\n",
    "print(type(y))\n",
    "\n",
    "# rules to assign a variable\n",
    "# 1 variable should contain letter, numbers or undescore\n",
    "# 2 do not start variables with numbers\n",
    "# 3 spaces are not allowed in variable names\n",
    "# 4 do not use keywords used in funtions , e.g., mean median, break etc\n",
    "# 5 short and discriptive name\n",
    "# 6 variable names are case sensitive, I suggest to use lower case always\n",
    "fruit_basket=\"mangoes\"\n",
    "print(type(fruit_basket))\n",
    "fruits=9 # you can delete one variable by writing del fruits etc.\n",
    "print(type(fruits))"
   ]
  },
  {
   "cell_type": "markdown",
   "id": "7d8786ab",
   "metadata": {},
   "source": [
    "**06- input variables**"
   ]
  },
  {
   "cell_type": "code",
   "execution_count": 5,
   "id": "b9f9432d",
   "metadata": {},
   "outputs": [
    {
     "name": "stdout",
     "output_type": "stream",
     "text": [
      "cricket\n",
      "what is your favourite gamecricket\n",
      "cricket\n",
      "what is your nameawais\n",
      "hello awais\n",
      "what is your nameawais\n",
      "Hello! awais\n",
      "what is your name ?awais\n",
      "how old are you ?6\n",
      "hello awais you are still young\n"
     ]
    }
   ],
   "source": [
    "game=\"cricket\"\n",
    "print(game)\n",
    "\n",
    "# input function simple\n",
    "game=input(\"what is your favourite game\")\n",
    "print(game)\n",
    "\n",
    "# input fucniton of 2nd stage\n",
    "name=input(\"what is your name\")\n",
    "greetings=\"hello\"\n",
    "print(greetings, name)\n",
    "\n",
    "# another way of stage 2 input function\n",
    "name=input(\"what is your name\")\n",
    "print(\"Hello!\", name)\n",
    "\n",
    "# 3rd stage input function\n",
    "name=input(\"what is your name ?\")\n",
    "age=input(\"how old are you ?\")\n",
    "greetings=\"hello\"\n",
    "print(greetings, name,\"you are still young\")"
   ]
  },
  {
   "cell_type": "markdown",
   "id": "ab0d176c",
   "metadata": {},
   "source": [
    "07 conditional logics"
   ]
  },
  {
   "cell_type": "code",
   "execution_count": 6,
   "id": "05c35e41",
   "metadata": {},
   "outputs": [
    {
     "name": "stdout",
     "output_type": "stream",
     "text": [
      "True\n",
      "False\n",
      "True\n",
      "False\n"
     ]
    }
   ],
   "source": [
    "# Logical operators are either \"true or false\" or \" 1 and 0\" \n",
    "# equal to ==\n",
    "# less than <\n",
    "# greater than >\n",
    "# less than and equal to <=\n",
    "# greater than and equal to >=\n",
    "# not equal to !=\n",
    "\n",
    "# how to ask python about logical operator?\n",
    "# 4 is equal to 4\n",
    "print(4==4)  \n",
    "print(4!=4)\n",
    "print(10>=5)\n",
    "# application of logical operators\n",
    "dawood_age=4\n",
    "min_age_at_school=5\n",
    "print(dawood_age==min_age_at_school)\n"
   ]
  },
  {
   "cell_type": "code",
   "execution_count": 7,
   "id": "80017f33",
   "metadata": {},
   "outputs": [
    {
     "name": "stdout",
     "output_type": "stream",
     "text": [
      "how old is dawood2\n",
      "False\n"
     ]
    }
   ],
   "source": [
    "min_age_at_school=5 \n",
    "dawood_age=input(\"how old is dawood\") # input function\n",
    "dawood_age=int(dawood_age)\n",
    "print(dawood_age==min_age_at_school) #logical operator, keep in mind, it should be integer to execute"
   ]
  },
  {
   "cell_type": "markdown",
   "id": "0cb8982e",
   "metadata": {},
   "source": [
    "**08- type conversion**"
   ]
  },
  {
   "cell_type": "code",
   "execution_count": 8,
   "id": "eaa84134",
   "metadata": {},
   "outputs": [
    {
     "name": "stdout",
     "output_type": "stream",
     "text": [
      "<class 'int'>\n",
      "<class 'float'>\n",
      "15.299999999999999 type of x is:  <class 'float'>\n"
     ]
    }
   ],
   "source": [
    "x=2 # integer\n",
    "y=5.1 # type will come as float means its a decimal number \n",
    "z=\"hello\" # string\n",
    "print(type(x))\n",
    "x=x*y\n",
    "print(type(x))\n",
    "# implicit type conversion\n",
    "x=x+y\n",
    "print(x, \"type of x is: \", type(x) )"
   ]
  },
  {
   "cell_type": "code",
   "execution_count": 9,
   "id": "e81b3517",
   "metadata": {},
   "outputs": [
    {
     "name": "stdout",
     "output_type": "stream",
     "text": [
      "what is your age12\n",
      "<class 'str'>\n",
      "<class 'int'>\n",
      "12 <class 'int'>\n",
      "12 <class 'float'>\n"
     ]
    }
   ],
   "source": [
    "# explicit type of conversion\n",
    "my_age=input(\"what is your age\")\n",
    "print(type(my_age)) # this will give you string as the type, althoug you are answering a digit so you can change it in the print fucntion\n",
    "print(type(int(my_age)))\n",
    "print(my_age, type(int(my_age))) # it will not work if you input answer in decimal\n",
    "print(my_age, type(float(my_age)))"
   ]
  },
  {
   "cell_type": "code",
   "execution_count": 10,
   "id": "ea0d425e",
   "metadata": {},
   "outputs": [
    {
     "name": "stdout",
     "output_type": "stream",
     "text": [
      "what is your son namedawood\n",
      "dawood <class 'str'>\n"
     ]
    }
   ],
   "source": [
    "# name\n",
    "name=input(\"what is your son name\")\n",
    "print(name, type(str(name)))"
   ]
  },
  {
   "cell_type": "markdown",
   "id": "489fa98d",
   "metadata": {},
   "source": [
    "**09- if else elf statement**"
   ]
  },
  {
   "cell_type": "code",
   "execution_count": 11,
   "id": "9c0af164",
   "metadata": {},
   "outputs": [
    {
     "name": "stdout",
     "output_type": "stream",
     "text": [
      "dawood can not come to abu dhabi\n"
     ]
    }
   ],
   "source": [
    "dawood_age=5\n",
    "age_to_travel=6\n",
    "if dawood_age==age_to_travel:\n",
    "    print(\"dawood can come to abu dhabi\") # if this will only be the statemtn, then nothing will be printing\n",
    "    # if dawood age is not equal to age to travel,so you need to add else statement to print another statement\n",
    "else: \n",
    "        print (\"dawood can not come to abu dhabi\")\n",
    "        # you can add elif statement as well in your code"
   ]
  },
  {
   "cell_type": "markdown",
   "id": "2d60f05e",
   "metadata": {},
   "source": [
    "**10- functions**"
   ]
  },
  {
   "cell_type": "code",
   "execution_count": 12,
   "id": "e35a727c",
   "metadata": {},
   "outputs": [
    {
     "name": "stdout",
     "output_type": "stream",
     "text": [
      "we are learning python\n",
      "we are learning python\n",
      "we are learning python\n"
     ]
    }
   ],
   "source": [
    "# print(\"we are learning python\")\n",
    "# print(\"we are learning python\")\n",
    "# print(\"we are learning python\")\n",
    "# print(\"we are learning python\")\n",
    "# print(\"we are learning python\")\n",
    "# print(\"we are learning python\")\n",
    "# print(\"we are learning python\")\n",
    "# if there is a mistake, you will have to change it in all repitions\n",
    "\n",
    "# Lets see how to define a function\n",
    "\n",
    "def print_awais(): # name of our function\n",
    "    print(\"we are learning python\")\n",
    "    print(\"we are learning python\")\n",
    "    print(\"we are learning python\")\n",
    "print_awais()"
   ]
  },
  {
   "cell_type": "code",
   "execution_count": 13,
   "id": "4ff8881a",
   "metadata": {},
   "outputs": [
    {
     "name": "stdout",
     "output_type": "stream",
     "text": [
      "I am a freelancer\n",
      "I am a freelancer\n",
      "I am a freelancer\n"
     ]
    }
   ],
   "source": [
    "# 2 way to define a function\n",
    "\n",
    "def print_awais():\n",
    "    text=\"I am a freelancer\" # you can change anything to this single line and it will automatically changed to all outputs\n",
    "    print(text)\n",
    "    print(text)\n",
    "    print(text)\n",
    "print_awais()\n"
   ]
  },
  {
   "cell_type": "code",
   "execution_count": 14,
   "id": "843ecc44",
   "metadata": {},
   "outputs": [
    {
     "name": "stdout",
     "output_type": "stream",
     "text": [
      " I am good at python\n",
      " I am good at python\n",
      " I am good at python\n"
     ]
    }
   ],
   "source": [
    "# 3 way to define a fucntion\n",
    "def print_awais(text):\n",
    "    print(text)\n",
    "    print(text)\n",
    "    print(text)\n",
    "#print_awais() #in empty bracket, this will sy missing 1 required positional arguemnt, \n",
    "# so you can add your text here what you like and this would be another way of defining the function\n",
    "print_awais(\" I am good at python\")"
   ]
  },
  {
   "cell_type": "code",
   "execution_count": 15,
   "id": "5d87dd00",
   "metadata": {},
   "outputs": [
    {
     "name": "stdout",
     "output_type": "stream",
     "text": [
      "dawood has grown up\n"
     ]
    }
   ],
   "source": [
    "\n",
    "\n",
    "# defining a fucntion with if, else, elis statements\n",
    "def school_age(age, text):\n",
    "    if age==6:\n",
    "        print(\"dawood can travel\")\n",
    "    elif age >5:\n",
    "        print(\"dawood has grown up\")\n",
    "    else:\n",
    "        print(\"dawood is cute little baby\")\n",
    "school_age(7, \"dawood\")"
   ]
  },
  {
   "cell_type": "code",
   "execution_count": 16,
   "id": "f2fb1b8f",
   "metadata": {},
   "outputs": [
    {
     "name": "stdout",
     "output_type": "stream",
     "text": [
      "40\n"
     ]
    }
   ],
   "source": [
    "# defining a function of future\n",
    "def future(age):\n",
    "    new_age=age+20\n",
    "    # print(new_age)\n",
    "    return new_age\n",
    "    \n",
    "f=future(20)\n",
    "print(f)"
   ]
  },
  {
   "cell_type": "markdown",
   "id": "c025e390",
   "metadata": {},
   "source": [
    "**11- loops**"
   ]
  },
  {
   "cell_type": "code",
   "execution_count": 17,
   "id": "1f2b1f03",
   "metadata": {},
   "outputs": [
    {
     "name": "stdout",
     "output_type": "stream",
     "text": [
      "0\n",
      "1\n",
      "2\n",
      "3\n"
     ]
    }
   ],
   "source": [
    "# two types of loops are while and for\n",
    "\n",
    "# while loop\n",
    "x=0\n",
    "while (x<4):\n",
    "    print(x)\n",
    "    x=x+1"
   ]
  },
  {
   "cell_type": "code",
   "execution_count": 18,
   "id": "a1e977d9",
   "metadata": {},
   "outputs": [
    {
     "name": "stdout",
     "output_type": "stream",
     "text": [
      "5\n",
      "6\n",
      "7\n",
      "8\n",
      "9\n"
     ]
    }
   ],
   "source": [
    "# # for loop\n",
    "for x in range(5,10):\n",
    "    print(x)"
   ]
  },
  {
   "cell_type": "code",
   "execution_count": 19,
   "id": "327e4967",
   "metadata": {},
   "outputs": [
    {
     "name": "stdout",
     "output_type": "stream",
     "text": [
      "sunday\n",
      "monday\n",
      "tuesday\n",
      "wednes\n",
      "saturday\n"
     ]
    }
   ],
   "source": [
    "# arrays\n",
    "days=[\"sunday\", \"monday\", \"tuesday\", \"wednes\", \"thursday\", \"saturday\"]\n",
    "for j in days:\n",
    "    #if j==\"thursday\": break # loop stops at thursday\n",
    "    if j==\"thursday\": continue # skips thursday\n",
    "    print(j)"
   ]
  },
  {
   "cell_type": "markdown",
   "id": "59ca2d15",
   "metadata": {},
   "source": [
    "**11- import libraries**"
   ]
  },
  {
   "cell_type": "code",
   "execution_count": 20,
   "id": "31ddea7c",
   "metadata": {},
   "outputs": [
    {
     "name": "stdout",
     "output_type": "stream",
     "text": [
      "the value of pi is:  3.141592653589793\n"
     ]
    }
   ],
   "source": [
    "# if you want to print the value of pi, then you can call already developed libraries where the fucntions has\n",
    "# been developed by the programmers. so you can import those libraries to use those functions\n",
    "\n",
    "import math\n",
    "print(\"the value of pi is: \", math.pi)"
   ]
  },
  {
   "cell_type": "code",
   "execution_count": 21,
   "id": "f11316c1",
   "metadata": {},
   "outputs": [
    {
     "name": "stdout",
     "output_type": "stream",
     "text": [
      "mean of x:  52.5\n"
     ]
    }
   ],
   "source": [
    "import statistics\n",
    "x=[100, 120, -30, 20]\n",
    "print(\"mean of x: \", statistics.mean(x))\n",
    "\n",
    "# numpy, pandas libraries are also very helpful, we will see further later"
   ]
  },
  {
   "cell_type": "markdown",
   "id": "41547408",
   "metadata": {},
   "source": [
    "**12- trouble shooting**"
   ]
  },
  {
   "cell_type": "code",
   "execution_count": 22,
   "id": "6e2e59e6",
   "metadata": {},
   "outputs": [
    {
     "ename": "SyntaxError",
     "evalue": "invalid syntax (2620010816.py, line 2)",
     "output_type": "error",
     "traceback": [
      "\u001b[1;36m  File \u001b[1;32m\"C:\\Users\\mawai\\AppData\\Local\\Temp\\ipykernel_5632\\2620010816.py\"\u001b[1;36m, line \u001b[1;32m2\u001b[0m\n\u001b[1;33m    print(Python is great language)\u001b[0m\n\u001b[1;37m                          ^\u001b[0m\n\u001b[1;31mSyntaxError\u001b[0m\u001b[1;31m:\u001b[0m invalid syntax\n"
     ]
    }
   ],
   "source": [
    "# syntax error\n",
    "print(Python is great language)\n",
    "\n",
    "# runtime error\n",
    "print(10/0)\n",
    "\n",
    "# difficult error to troubleshoot is \"symantic error\" That language is doing its job perfect but we made\n",
    "# there is a error from our side e.g.,\n",
    "\n",
    "name= \"dawood\"\n",
    "print(\"Hi name\")\n"
   ]
  }
 ],
 "metadata": {
  "kernelspec": {
   "display_name": "Python 3 (ipykernel)",
   "language": "python",
   "name": "python3"
  },
  "language_info": {
   "codemirror_mode": {
    "name": "ipython",
    "version": 3
   },
   "file_extension": ".py",
   "mimetype": "text/x-python",
   "name": "python",
   "nbconvert_exporter": "python",
   "pygments_lexer": "ipython3",
   "version": "3.9.13"
  }
 },
 "nbformat": 4,
 "nbformat_minor": 5
}
