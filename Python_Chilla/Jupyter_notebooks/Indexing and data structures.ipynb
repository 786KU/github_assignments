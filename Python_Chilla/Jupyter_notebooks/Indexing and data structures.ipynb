{
 "cells": [
  {
   "cell_type": "markdown",
   "id": "3a3b32f1",
   "metadata": {},
   "source": [
    "# Indexing"
   ]
  },
  {
   "cell_type": "code",
   "execution_count": 1,
   "id": "2f2a7515",
   "metadata": {},
   "outputs": [],
   "source": [
    "# make a string\n",
    "a=\"Samosa pakora\""
   ]
  },
  {
   "cell_type": "code",
   "execution_count": 2,
   "id": "3936a1f8",
   "metadata": {},
   "outputs": [
    {
     "data": {
      "text/plain": [
       "'S'"
      ]
     },
     "execution_count": 2,
     "metadata": {},
     "output_type": "execute_result"
    }
   ],
   "source": [
    "a[0]"
   ]
  },
  {
   "cell_type": "code",
   "execution_count": 3,
   "id": "39dae8be",
   "metadata": {},
   "outputs": [
    {
     "data": {
      "text/plain": [
       "'a'"
      ]
     },
     "execution_count": 3,
     "metadata": {},
     "output_type": "execute_result"
    }
   ],
   "source": [
    "a[5]"
   ]
  },
  {
   "cell_type": "code",
   "execution_count": 4,
   "id": "ddcd3353",
   "metadata": {},
   "outputs": [
    {
     "ename": "IndexError",
     "evalue": "string index out of range",
     "output_type": "error",
     "traceback": [
      "\u001b[1;31m---------------------------------------------------------------------------\u001b[0m",
      "\u001b[1;31mIndexError\u001b[0m                                Traceback (most recent call last)",
      "\u001b[1;32m~\\AppData\\Local\\Temp\\ipykernel_3932\\3703660600.py\u001b[0m in \u001b[0;36m<module>\u001b[1;34m\u001b[0m\n\u001b[1;32m----> 1\u001b[1;33m \u001b[0ma\u001b[0m\u001b[1;33m[\u001b[0m\u001b[1;36m14\u001b[0m\u001b[1;33m]\u001b[0m\u001b[1;33m\u001b[0m\u001b[1;33m\u001b[0m\u001b[0m\n\u001b[0m",
      "\u001b[1;31mIndexError\u001b[0m: string index out of range"
     ]
    }
   ],
   "source": [
    "a[14]"
   ]
  },
  {
   "cell_type": "code",
   "execution_count": 5,
   "id": "d642666c",
   "metadata": {},
   "outputs": [
    {
     "data": {
      "text/plain": [
       "13"
      ]
     },
     "execution_count": 5,
     "metadata": {},
     "output_type": "execute_result"
    }
   ],
   "source": [
    "# lenght of indices\n",
    "len(a)\n",
    "# lenght is 13 but if you write a[13], it will give you error of out of range as python start counting from 0.\n",
    "# so you need to enter 13-1=12"
   ]
  },
  {
   "cell_type": "code",
   "execution_count": 6,
   "id": "3121792e",
   "metadata": {},
   "outputs": [
    {
     "ename": "IndexError",
     "evalue": "string index out of range",
     "output_type": "error",
     "traceback": [
      "\u001b[1;31m---------------------------------------------------------------------------\u001b[0m",
      "\u001b[1;31mIndexError\u001b[0m                                Traceback (most recent call last)",
      "\u001b[1;32m~\\AppData\\Local\\Temp\\ipykernel_3932\\2685650657.py\u001b[0m in \u001b[0;36m<module>\u001b[1;34m\u001b[0m\n\u001b[1;32m----> 1\u001b[1;33m \u001b[0ma\u001b[0m\u001b[1;33m[\u001b[0m\u001b[1;36m13\u001b[0m\u001b[1;33m]\u001b[0m\u001b[1;33m\u001b[0m\u001b[1;33m\u001b[0m\u001b[0m\n\u001b[0m",
      "\u001b[1;31mIndexError\u001b[0m: string index out of range"
     ]
    }
   ],
   "source": [
    "a[13]"
   ]
  },
  {
   "cell_type": "code",
   "execution_count": 7,
   "id": "849413ab",
   "metadata": {},
   "outputs": [
    {
     "data": {
      "text/plain": [
       "'Samos'"
      ]
     },
     "execution_count": 7,
     "metadata": {},
     "output_type": "execute_result"
    }
   ],
   "source": [
    "# however, remember that in indexing here in pyhton, last index is exclusive e.g., \n",
    "a[0:5] # it is indexing 0,1,2,3,4 not the 5, "
   ]
  },
  {
   "cell_type": "code",
   "execution_count": 8,
   "id": "c242435d",
   "metadata": {},
   "outputs": [
    {
     "data": {
      "text/plain": [
       "'Samosa pakor'"
      ]
     },
     "execution_count": 8,
     "metadata": {},
     "output_type": "execute_result"
    }
   ],
   "source": [
    "# similarly, \n",
    "a[0:12] # its not printing the 12 index, you need to write 13 to have that last index"
   ]
  },
  {
   "cell_type": "code",
   "execution_count": 9,
   "id": "7f0885c3",
   "metadata": {},
   "outputs": [
    {
     "data": {
      "text/plain": [
       "'Samosa pakora'"
      ]
     },
     "execution_count": 9,
     "metadata": {},
     "output_type": "execute_result"
    }
   ],
   "source": [
    "a[0:13]"
   ]
  },
  {
   "cell_type": "code",
   "execution_count": 10,
   "id": "cf6fc05a",
   "metadata": {},
   "outputs": [
    {
     "data": {
      "text/plain": [
       "'a'"
      ]
     },
     "execution_count": 10,
     "metadata": {},
     "output_type": "execute_result"
    }
   ],
   "source": [
    "# you can also index from the right side of string/anything but it will start from -1 from the right end\n",
    "a[-1]"
   ]
  },
  {
   "cell_type": "code",
   "execution_count": 11,
   "id": "6c7e5e5b",
   "metadata": {},
   "outputs": [
    {
     "data": {
      "text/plain": [
       "''"
      ]
     },
     "execution_count": 11,
     "metadata": {},
     "output_type": "execute_result"
    }
   ],
   "source": [
    "a[-1:-6] # this will give error, as -1:-6 is not the style of english langauge hand, so you need to righ -6:-1"
   ]
  },
  {
   "cell_type": "code",
   "execution_count": 12,
   "id": "c5c1cb58",
   "metadata": {},
   "outputs": [
    {
     "data": {
      "text/plain": [
       "'pakor'"
      ]
     },
     "execution_count": 12,
     "metadata": {},
     "output_type": "execute_result"
    }
   ],
   "source": [
    "a[-6:-1] # you will see it has not printed the last 'a', to print that, -6:0 will not work, -6:len(a) would work"
   ]
  },
  {
   "cell_type": "code",
   "execution_count": 13,
   "id": "50d3b8b0",
   "metadata": {},
   "outputs": [
    {
     "data": {
      "text/plain": [
       "'pakora'"
      ]
     },
     "execution_count": 13,
     "metadata": {},
     "output_type": "execute_result"
    }
   ],
   "source": [
    "a[-6:len(a)] # or a[-6:13]"
   ]
  },
  {
   "cell_type": "markdown",
   "id": "05d4c9c4",
   "metadata": {},
   "source": [
    "## strings methods"
   ]
  },
  {
   "cell_type": "code",
   "execution_count": 14,
   "id": "061615ae",
   "metadata": {},
   "outputs": [
    {
     "data": {
      "text/plain": [
       "'biryani'"
      ]
     },
     "execution_count": 14,
     "metadata": {},
     "output_type": "execute_result"
    }
   ],
   "source": [
    "food = \"biryani\"\n",
    "food"
   ]
  },
  {
   "cell_type": "code",
   "execution_count": 15,
   "id": "692c531b",
   "metadata": {},
   "outputs": [
    {
     "data": {
      "text/plain": [
       "7"
      ]
     },
     "execution_count": 15,
     "metadata": {},
     "output_type": "execute_result"
    }
   ],
   "source": [
    "len(food)"
   ]
  },
  {
   "cell_type": "code",
   "execution_count": 16,
   "id": "72eb43f6",
   "metadata": {},
   "outputs": [
    {
     "data": {
      "text/plain": [
       "'Biryani'"
      ]
     },
     "execution_count": 16,
     "metadata": {},
     "output_type": "execute_result"
    }
   ],
   "source": [
    "# captilaizing first letter\n",
    "food.capitalize()"
   ]
  },
  {
   "cell_type": "code",
   "execution_count": 17,
   "id": "3331418e",
   "metadata": {},
   "outputs": [
    {
     "data": {
      "text/plain": [
       "'BIRYANI'"
      ]
     },
     "execution_count": 17,
     "metadata": {},
     "output_type": "execute_result"
    }
   ],
   "source": [
    "# all capitals\n",
    "food.upper()"
   ]
  },
  {
   "cell_type": "code",
   "execution_count": 18,
   "id": "deab3edd",
   "metadata": {},
   "outputs": [
    {
     "data": {
      "text/plain": [
       "'biryani'"
      ]
     },
     "execution_count": 18,
     "metadata": {},
     "output_type": "execute_result"
    }
   ],
   "source": [
    "# first lower\n",
    "food.lower()"
   ]
  },
  {
   "cell_type": "code",
   "execution_count": 19,
   "id": "a34fdb93",
   "metadata": {},
   "outputs": [
    {
     "data": {
      "text/plain": [
       "'shiryani'"
      ]
     },
     "execution_count": 19,
     "metadata": {},
     "output_type": "execute_result"
    }
   ],
   "source": [
    "food.replace(\"b\", \"sh\")"
   ]
  },
  {
   "cell_type": "code",
   "execution_count": 20,
   "id": "c6b9b9df",
   "metadata": {},
   "outputs": [
    {
     "data": {
      "text/plain": [
       "'learning pyhton with baba ammar'"
      ]
     },
     "execution_count": 20,
     "metadata": {},
     "output_type": "execute_result"
    }
   ],
   "source": [
    "# counting a special letter in strin\n",
    "name = \"learning pyhton with baba ammar\"\n",
    "name"
   ]
  },
  {
   "cell_type": "code",
   "execution_count": 21,
   "id": "7041874d",
   "metadata": {},
   "outputs": [
    {
     "data": {
      "text/plain": [
       "2"
      ]
     },
     "execution_count": 21,
     "metadata": {},
     "output_type": "execute_result"
    }
   ],
   "source": [
    "# this counting is case sensitive as well\n",
    "name.count(\"b\")"
   ]
  },
  {
   "cell_type": "code",
   "execution_count": 22,
   "id": "02e059e5",
   "metadata": {},
   "outputs": [
    {
     "data": {
      "text/plain": [
       "'learning pyhton with baba ammar'"
      ]
     },
     "execution_count": 22,
     "metadata": {},
     "output_type": "execute_result"
    }
   ],
   "source": [
    "### how to find an index in string/anything\n",
    "name = \"learning pyhton with baba ammar\"\n",
    "name"
   ]
  },
  {
   "cell_type": "code",
   "execution_count": 23,
   "id": "d65c4f22",
   "metadata": {},
   "outputs": [
    {
     "data": {
      "text/plain": [
       "27"
      ]
     },
     "execution_count": 23,
     "metadata": {},
     "output_type": "execute_result"
    }
   ],
   "source": [
    "name.index(\"mm\") # for double entry, it will give the index of first entry"
   ]
  },
  {
   "cell_type": "code",
   "execution_count": 24,
   "id": "295c02b2",
   "metadata": {},
   "outputs": [
    {
     "data": {
      "text/plain": [
       "['i love pakora', ' samosa', ' biryani', ' raita', ' karahi']"
      ]
     },
     "execution_count": 24,
     "metadata": {},
     "output_type": "execute_result"
    }
   ],
   "source": [
    "# how to split a string?\n",
    "food = \"i love pakora, samosa, biryani, raita, karahi\"\n",
    "food.split(\",\") # split based on specific character"
   ]
  },
  {
   "cell_type": "markdown",
   "id": "530d7737",
   "metadata": {},
   "source": [
    "# Basic data structure in python\n",
    "1. Tuple\n",
    "2. List\n",
    "3. Dictionaries \n",
    "4. Set"
   ]
  },
  {
   "cell_type": "markdown",
   "id": "a276cbd3",
   "metadata": {},
   "source": [
    "## 1- Tupel\n",
    "- ordered collection of elements (integers, strings, boolian operators (true, false), float)\n",
    "- enclosed in () braces/paranthesis \n",
    "- Different kind of element can be stored\n",
    "- once element are stored, you cant change them, i.e. (unmutateable)"
   ]
  },
  {
   "cell_type": "code",
   "execution_count": 25,
   "id": "f21673ec",
   "metadata": {},
   "outputs": [
    {
     "data": {
      "text/plain": [
       "(2, 'awais', True, 2.5)"
      ]
     },
     "execution_count": 25,
     "metadata": {},
     "output_type": "execute_result"
    }
   ],
   "source": [
    "tup1=(2, \"awais\", True, 2.5)\n",
    "tup1"
   ]
  },
  {
   "cell_type": "code",
   "execution_count": 26,
   "id": "fe0e9833",
   "metadata": {},
   "outputs": [
    {
     "data": {
      "text/plain": [
       "tuple"
      ]
     },
     "execution_count": 26,
     "metadata": {},
     "output_type": "execute_result"
    }
   ],
   "source": [
    "type(tup1)"
   ]
  },
  {
   "cell_type": "markdown",
   "id": "9fde36b9",
   "metadata": {},
   "source": [
    "## -Indexing in tuple"
   ]
  },
  {
   "cell_type": "code",
   "execution_count": 28,
   "id": "d26a1238",
   "metadata": {},
   "outputs": [
    {
     "data": {
      "text/plain": [
       "2"
      ]
     },
     "execution_count": 28,
     "metadata": {},
     "output_type": "execute_result"
    }
   ],
   "source": [
    "tup1[0]"
   ]
  },
  {
   "cell_type": "code",
   "execution_count": 29,
   "id": "e62d535f",
   "metadata": {},
   "outputs": [
    {
     "data": {
      "text/plain": [
       "True"
      ]
     },
     "execution_count": 29,
     "metadata": {},
     "output_type": "execute_result"
    }
   ],
   "source": [
    "tup1[2]"
   ]
  },
  {
   "cell_type": "code",
   "execution_count": 30,
   "id": "a9302273",
   "metadata": {},
   "outputs": [
    {
     "data": {
      "text/plain": [
       "4"
      ]
     },
     "execution_count": 30,
     "metadata": {},
     "output_type": "execute_result"
    }
   ],
   "source": [
    "# count element in tuple\n",
    "len(tup1)"
   ]
  },
  {
   "cell_type": "code",
   "execution_count": 31,
   "id": "301a8218",
   "metadata": {},
   "outputs": [
    {
     "data": {
      "text/plain": [
       "(4, 'python', False, 3.3)"
      ]
     },
     "execution_count": 31,
     "metadata": {},
     "output_type": "execute_result"
    }
   ],
   "source": [
    "# tuple addition, multiplication\n",
    "tup2=(4, \"python\", False, 3.3)\n",
    "tup2"
   ]
  },
  {
   "cell_type": "code",
   "execution_count": 32,
   "id": "a9475cb7",
   "metadata": {},
   "outputs": [
    {
     "data": {
      "text/plain": [
       "(2, 'awais', True, 2.5, 4, 'python', False, 3.3)"
      ]
     },
     "execution_count": 32,
     "metadata": {},
     "output_type": "execute_result"
    }
   ],
   "source": [
    "# we call addition in python/scientific langaugae as concatenate (link together things in a series or chain)\n",
    "tup1+tup2"
   ]
  },
  {
   "cell_type": "code",
   "execution_count": 33,
   "id": "0cc2ae89",
   "metadata": {},
   "outputs": [
    {
     "data": {
      "text/plain": [
       "(2, 'awais', True, 2.5, 4, 'python', False, 3.3, 4, 'python', False, 3.3)"
      ]
     },
     "execution_count": 33,
     "metadata": {},
     "output_type": "execute_result"
    }
   ],
   "source": [
    "tup1+tup2*2 # concatenate plus repeat "
   ]
  },
  {
   "cell_type": "code",
   "execution_count": 34,
   "id": "70af91f3",
   "metadata": {},
   "outputs": [
    {
     "data": {
      "text/plain": [
       "(20, 70, 50, 10)"
      ]
     },
     "execution_count": 34,
     "metadata": {},
     "output_type": "execute_result"
    }
   ],
   "source": [
    "tup3 = (20, 70, 50, 10)\n",
    "tup3"
   ]
  },
  {
   "cell_type": "code",
   "execution_count": 35,
   "id": "f65284be",
   "metadata": {},
   "outputs": [
    {
     "data": {
      "text/plain": [
       "10"
      ]
     },
     "execution_count": 35,
     "metadata": {},
     "output_type": "execute_result"
    }
   ],
   "source": [
    "# min value in tuple\n",
    "min(tup3)"
   ]
  },
  {
   "cell_type": "code",
   "execution_count": 36,
   "id": "1102cf0b",
   "metadata": {},
   "outputs": [
    {
     "data": {
      "text/plain": [
       "70"
      ]
     },
     "execution_count": 36,
     "metadata": {},
     "output_type": "execute_result"
    }
   ],
   "source": [
    "# max value in tuple\n",
    "max(tup3)"
   ]
  },
  {
   "cell_type": "code",
   "execution_count": 37,
   "id": "423aa8b9",
   "metadata": {},
   "outputs": [
    {
     "data": {
      "text/plain": [
       "(20, 70, 50, 10, 20, 70, 50, 10, 20, 70, 50, 10)"
      ]
     },
     "execution_count": 37,
     "metadata": {},
     "output_type": "execute_result"
    }
   ],
   "source": [
    "tup3*3"
   ]
  },
  {
   "cell_type": "markdown",
   "id": "954120bc",
   "metadata": {},
   "source": [
    "---"
   ]
  },
  {
   "cell_type": "markdown",
   "id": "1e08c1ae",
   "metadata": {},
   "source": [
    "## 2- List \n",
    "- ordered collection of elements\n",
    "- enclosed in [ ] square brackets/braces\n",
    "- Mutateable i.e., you can change the values "
   ]
  },
  {
   "cell_type": "code",
   "execution_count": 38,
   "id": "9ad56abf",
   "metadata": {},
   "outputs": [
    {
     "data": {
      "text/plain": [
       "['dawood', 4, True, 1.1]"
      ]
     },
     "execution_count": 38,
     "metadata": {},
     "output_type": "execute_result"
    }
   ],
   "source": [
    "list1=[\"dawood\", 4, True, 1.1]\n",
    "list1"
   ]
  },
  {
   "cell_type": "code",
   "execution_count": 39,
   "id": "2443203c",
   "metadata": {},
   "outputs": [
    {
     "data": {
      "text/plain": [
       "list"
      ]
     },
     "execution_count": 39,
     "metadata": {},
     "output_type": "execute_result"
    }
   ],
   "source": [
    "type(list1)"
   ]
  },
  {
   "cell_type": "code",
   "execution_count": 40,
   "id": "fcfcf277",
   "metadata": {},
   "outputs": [
    {
     "data": {
      "text/plain": [
       "4"
      ]
     },
     "execution_count": 40,
     "metadata": {},
     "output_type": "execute_result"
    }
   ],
   "source": [
    "len(list1)"
   ]
  },
  {
   "cell_type": "code",
   "execution_count": 41,
   "id": "0de63a9b",
   "metadata": {},
   "outputs": [
    {
     "data": {
      "text/plain": [
       "'dawood'"
      ]
     },
     "execution_count": 41,
     "metadata": {},
     "output_type": "execute_result"
    }
   ],
   "source": [
    "list1[0]"
   ]
  },
  {
   "cell_type": "code",
   "execution_count": 42,
   "id": "bf3042ae",
   "metadata": {},
   "outputs": [
    {
     "data": {
      "text/plain": [
       "1.1"
      ]
     },
     "execution_count": 42,
     "metadata": {},
     "output_type": "execute_result"
    }
   ],
   "source": [
    "list1[3]"
   ]
  },
  {
   "cell_type": "code",
   "execution_count": 43,
   "id": "98e9d737",
   "metadata": {},
   "outputs": [
    {
     "data": {
      "text/plain": [
       "['cricket', 4, 3.2, 'python', 'samosa', False, True]"
      ]
     },
     "execution_count": 43,
     "metadata": {},
     "output_type": "execute_result"
    }
   ],
   "source": [
    "list2=[\"cricket\", 4, 3.2, \"python\", \"samosa\", False, True]\n",
    "list2"
   ]
  },
  {
   "cell_type": "code",
   "execution_count": 44,
   "id": "9dae584c",
   "metadata": {},
   "outputs": [
    {
     "data": {
      "text/plain": [
       "['dawood', 4, True, 1.1, 'cricket', 4, 3.2, 'python', 'samosa', False, True]"
      ]
     },
     "execution_count": 44,
     "metadata": {},
     "output_type": "execute_result"
    }
   ],
   "source": [
    "list1+list2"
   ]
  },
  {
   "cell_type": "code",
   "execution_count": 46,
   "id": "ea774565",
   "metadata": {},
   "outputs": [
    {
     "data": {
      "text/plain": [
       "[True, False, 'samosa', 'python', 3.2, 4, 'cricket']"
      ]
     },
     "execution_count": 46,
     "metadata": {},
     "output_type": "execute_result"
    }
   ],
   "source": [
    "list2.reverse() # there are many function, you can try and see\n",
    "list2"
   ]
  },
  {
   "cell_type": "code",
   "execution_count": 47,
   "id": "9a5f4419",
   "metadata": {},
   "outputs": [
    {
     "data": {
      "text/plain": [
       "[True, False, 'samosa', 'python', 3.2, 4, 'cricket', 'love']"
      ]
     },
     "execution_count": 47,
     "metadata": {},
     "output_type": "execute_result"
    }
   ],
   "source": [
    "list2.append(\"love\")\n",
    "list2"
   ]
  },
  {
   "cell_type": "code",
   "execution_count": 68,
   "id": "3d4a3b8c",
   "metadata": {},
   "outputs": [
    {
     "data": {
      "text/plain": [
       "1"
      ]
     },
     "execution_count": 68,
     "metadata": {},
     "output_type": "execute_result"
    }
   ],
   "source": [
    "list2.count(3.2) # check how to count a list\n",
    "# The count() method returns the number of times the specified element appears in the list."
   ]
  },
  {
   "cell_type": "code",
   "execution_count": 69,
   "id": "1394dfdf",
   "metadata": {},
   "outputs": [
    {
     "data": {
      "text/plain": [
       "1"
      ]
     },
     "execution_count": 69,
     "metadata": {},
     "output_type": "execute_result"
    }
   ],
   "source": [
    "list2.count(\"love\")"
   ]
  },
  {
   "cell_type": "code",
   "execution_count": 70,
   "id": "3b153da8",
   "metadata": {},
   "outputs": [
    {
     "data": {
      "text/plain": [
       "1"
      ]
     },
     "execution_count": 70,
     "metadata": {},
     "output_type": "execute_result"
    }
   ],
   "source": [
    "list2.count(False)"
   ]
  },
  {
   "cell_type": "code",
   "execution_count": 75,
   "id": "90ca855f",
   "metadata": {},
   "outputs": [
    {
     "data": {
      "text/plain": [
       "[]"
      ]
     },
     "execution_count": 75,
     "metadata": {},
     "output_type": "execute_result"
    }
   ],
   "source": [
    "list3=[10,12, 14,101, 4]\n",
    "list3.clear()\n",
    "list3"
   ]
  },
  {
   "cell_type": "code",
   "execution_count": 79,
   "id": "69307514",
   "metadata": {},
   "outputs": [
    {
     "data": {
      "text/plain": [
       "[1, 'a', 'e', 'i', 3, 'o', False]"
      ]
     },
     "execution_count": 79,
     "metadata": {},
     "output_type": "execute_result"
    }
   ],
   "source": [
    "list4=[1,\"a\",\"e\",\"i\",3,\"o\",False]\n",
    "list4"
   ]
  },
  {
   "cell_type": "code",
   "execution_count": 81,
   "id": "df309a6a",
   "metadata": {},
   "outputs": [
    {
     "data": {
      "text/plain": [
       "[1, 'a', 'e', 'i', 3, 'o', False]"
      ]
     },
     "execution_count": 81,
     "metadata": {},
     "output_type": "execute_result"
    }
   ],
   "source": [
    "list4.copy()"
   ]
  },
  {
   "cell_type": "code",
   "execution_count": 105,
   "id": "081353a3",
   "metadata": {},
   "outputs": [
    {
     "data": {
      "text/plain": [
       "[1, 'a', 'dawood', 4, 2, 'e', 'i', 3, 'o', False, 'e', '2', 'd', 'd']"
      ]
     },
     "execution_count": 105,
     "metadata": {},
     "output_type": "execute_result"
    }
   ],
   "source": [
    "list4.extend(\"d\")\n",
    "list4"
   ]
  },
  {
   "cell_type": "code",
   "execution_count": 104,
   "id": "b0e74b14",
   "metadata": {},
   "outputs": [
    {
     "data": {
      "text/plain": [
       "[1, 'a', 'dawood', 4, 2, 'e', 'i', 3, 'o', False, 'e', '2', 'd']"
      ]
     },
     "execution_count": 104,
     "metadata": {},
     "output_type": "execute_result"
    }
   ],
   "source": [
    "list4.insert(2,\"dawood\")\n",
    "list4"
   ]
  },
  {
   "cell_type": "markdown",
   "id": "89c6e4cb",
   "metadata": {},
   "source": [
    "## 3- Dictionaries\n",
    "- an unordered collection of elements \n",
    "- key and value data structure\n",
    "- { } curly brackets/braces are used to define dictionaries\n",
    "- mutateable, you can change the value"
   ]
  },
  {
   "cell_type": "code",
   "execution_count": 106,
   "id": "d4ba701e",
   "metadata": {},
   "outputs": [
    {
     "data": {
      "text/plain": [
       "{'samosa': 20, 'pakora': 200, 'Naan': 20, 'raita': 20}"
      ]
     },
     "execution_count": 106,
     "metadata": {},
     "output_type": "execute_result"
    }
   ],
   "source": [
    "food1 = {\"samosa\":20, \"pakora\":200, \"Naan\":20, \"raita\":20}\n",
    "food1"
   ]
  },
  {
   "cell_type": "code",
   "execution_count": 107,
   "id": "10dc1130",
   "metadata": {},
   "outputs": [
    {
     "data": {
      "text/plain": [
       "dict"
      ]
     },
     "execution_count": 107,
     "metadata": {},
     "output_type": "execute_result"
    }
   ],
   "source": [
    "type(food1)"
   ]
  },
  {
   "cell_type": "code",
   "execution_count": 108,
   "id": "b1cc1ec8",
   "metadata": {},
   "outputs": [
    {
     "data": {
      "text/plain": [
       "dict_keys(['samosa', 'pakora', 'Naan', 'raita'])"
      ]
     },
     "execution_count": 108,
     "metadata": {},
     "output_type": "execute_result"
    }
   ],
   "source": [
    "# extract data from dictionaries\n",
    "keys1=food1.keys()\n",
    "keys1"
   ]
  },
  {
   "cell_type": "code",
   "execution_count": 109,
   "id": "fbd0b30a",
   "metadata": {},
   "outputs": [
    {
     "data": {
      "text/plain": [
       "dict_values([20, 200, 20, 20])"
      ]
     },
     "execution_count": 109,
     "metadata": {},
     "output_type": "execute_result"
    }
   ],
   "source": [
    "values1=food1.values()\n",
    "values1"
   ]
  },
  {
   "cell_type": "code",
   "execution_count": 110,
   "id": "617a3772",
   "metadata": {},
   "outputs": [
    {
     "data": {
      "text/plain": [
       "{'samosa': 20, 'pakora': 200, 'Naan': 20, 'raita': 20, 'tikki': 40}"
      ]
     },
     "execution_count": 110,
     "metadata": {},
     "output_type": "execute_result"
    }
   ],
   "source": [
    "# how to add a new element in dictionary\n",
    "food1[\"tikki\"]=40\n",
    "food1"
   ]
  },
  {
   "cell_type": "code",
   "execution_count": 111,
   "id": "1e5b1d7b",
   "metadata": {},
   "outputs": [
    {
     "data": {
      "text/plain": [
       "{'samosa': 20, 'pakora': 200, 'Naan': 20, 'raita': 20, 'tikki': 80}"
      ]
     },
     "execution_count": 111,
     "metadata": {},
     "output_type": "execute_result"
    }
   ],
   "source": [
    "# update a value in dic\n",
    "food1[\"tikki\"]=80\n",
    "food1"
   ]
  },
  {
   "cell_type": "code",
   "execution_count": 112,
   "id": "0efd55e1",
   "metadata": {},
   "outputs": [
    {
     "data": {
      "text/plain": [
       "{'dates': 400, 'choclate': 800, 'faniya': 500}"
      ]
     },
     "execution_count": 112,
     "metadata": {},
     "output_type": "execute_result"
    }
   ],
   "source": [
    "food2={\"dates\":400, \"choclate\":800, \"faniya\":500}\n",
    "food2"
   ]
  },
  {
   "cell_type": "code",
   "execution_count": 113,
   "id": "faf6f622",
   "metadata": {},
   "outputs": [
    {
     "ename": "TypeError",
     "evalue": "unsupported operand type(s) for +: 'dict' and 'dict'",
     "output_type": "error",
     "traceback": [
      "\u001b[1;31m---------------------------------------------------------------------------\u001b[0m",
      "\u001b[1;31mTypeError\u001b[0m                                 Traceback (most recent call last)",
      "\u001b[1;32m~\\AppData\\Local\\Temp\\ipykernel_3932\\721192085.py\u001b[0m in \u001b[0;36m<module>\u001b[1;34m\u001b[0m\n\u001b[0;32m      1\u001b[0m \u001b[1;31m# concatenate two dictionaries\u001b[0m\u001b[1;33m\u001b[0m\u001b[1;33m\u001b[0m\u001b[0m\n\u001b[1;32m----> 2\u001b[1;33m \u001b[0mfood1\u001b[0m\u001b[1;33m+\u001b[0m\u001b[0mfood2\u001b[0m\u001b[1;33m\u001b[0m\u001b[1;33m\u001b[0m\u001b[0m\n\u001b[0m",
      "\u001b[1;31mTypeError\u001b[0m: unsupported operand type(s) for +: 'dict' and 'dict'"
     ]
    }
   ],
   "source": [
    "# concatenate two dictionaries\n",
    "food1+food2"
   ]
  },
  {
   "cell_type": "code",
   "execution_count": 114,
   "id": "133c9669",
   "metadata": {},
   "outputs": [
    {
     "data": {
      "text/plain": [
       "{'samosa': 20,\n",
       " 'pakora': 200,\n",
       " 'Naan': 20,\n",
       " 'raita': 20,\n",
       " 'tikki': 80,\n",
       " 'dates': 400,\n",
       " 'choclate': 800,\n",
       " 'faniya': 500}"
      ]
     },
     "execution_count": 114,
     "metadata": {},
     "output_type": "execute_result"
    }
   ],
   "source": [
    "# it will not work like list of tuple, you need to use update \n",
    "food1.update(food2)\n",
    "food1"
   ]
  },
  {
   "cell_type": "code",
   "execution_count": 131,
   "id": "40513ec4",
   "metadata": {},
   "outputs": [
    {
     "data": {
      "text/plain": [
       "20"
      ]
     },
     "execution_count": 131,
     "metadata": {},
     "output_type": "execute_result"
    }
   ],
   "source": [
    "food1.get(\"raita\") # how to use get for dictionaries?  \n",
    "# This method return a value for the given key. If key is not available, then returns default value None. \n",
    "# Note: dont print the output, otherwise it will show you the original dictionary not the output of get function"
   ]
  },
  {
   "cell_type": "code",
   "execution_count": 136,
   "id": "21c30ab6",
   "metadata": {},
   "outputs": [
    {
     "data": {
      "text/plain": [
       "dict_items([('samosa', 20), ('pakora', 200), ('Naan', 20), ('raita', 20), ('tikki', 80), ('dates', 400), ('choclate', 800), ('faniya', 500)])"
      ]
     },
     "execution_count": 136,
     "metadata": {},
     "output_type": "execute_result"
    }
   ],
   "source": [
    "food1.items()"
   ]
  },
  {
   "cell_type": "markdown",
   "id": "e5fed44b",
   "metadata": {},
   "source": [
    "## 4- Sets\n",
    "- an unordered and unindexed\n",
    "- curly brackets are used { }\n",
    "- no duplicates are allowed\n",
    "- booloian operators are not allowed, they will not get printed in the output\n",
    "- "
   ]
  },
  {
   "cell_type": "code",
   "execution_count": 150,
   "id": "3e248f6e",
   "metadata": {},
   "outputs": [
    {
     "data": {
      "text/plain": [
       "{400, 500.45, 800, True, 'choclate', 'dates', 'faniya'}"
      ]
     },
     "execution_count": 150,
     "metadata": {},
     "output_type": "execute_result"
    }
   ],
   "source": [
    "s1={\"dates\", 400, \"choclate\", 800, \"faniya\", 500.45, True} #  booloian operators are not allowed, they will not get \n",
    "                                                           #printed in the output\n",
    "s1 "
   ]
  },
  {
   "cell_type": "code",
   "execution_count": 151,
   "id": "388ca4b9",
   "metadata": {},
   "outputs": [
    {
     "data": {
      "text/plain": [
       "{400, 500.45, 800, 'choclate', 'dates', 'faniya'}"
      ]
     },
     "execution_count": 151,
     "metadata": {},
     "output_type": "execute_result"
    }
   ],
   "source": [
    "s1={\"dates\", 400, \"choclate\", 800, \"faniya\", 500.45}\n",
    "s1"
   ]
  },
  {
   "cell_type": "code",
   "execution_count": 152,
   "id": "da1c4b3e",
   "metadata": {},
   "outputs": [
    {
     "data": {
      "text/plain": [
       "{2, 400, 500.45, 800, 'choclate', 'dates', 'faniya'}"
      ]
     },
     "execution_count": 152,
     "metadata": {},
     "output_type": "execute_result"
    }
   ],
   "source": [
    "s1.add(2)\n",
    "s1"
   ]
  },
  {
   "cell_type": "code",
   "execution_count": 153,
   "id": "79e2e332",
   "metadata": {},
   "outputs": [
    {
     "data": {
      "text/plain": [
       "{2, 400, 500.45, 800, 'choclate', 'dates', 'faniya'}"
      ]
     },
     "execution_count": 153,
     "metadata": {},
     "output_type": "execute_result"
    }
   ],
   "source": [
    "s1.add(400) # it will not add dupilcate in the set\n",
    "s1"
   ]
  },
  {
   "cell_type": "code",
   "execution_count": 154,
   "id": "a59d0ba2",
   "metadata": {},
   "outputs": [
    {
     "data": {
      "text/plain": [
       "set"
      ]
     },
     "execution_count": 154,
     "metadata": {},
     "output_type": "execute_result"
    }
   ],
   "source": [
    "type(s1)"
   ]
  },
  {
   "cell_type": "code",
   "execution_count": 155,
   "id": "9534c365",
   "metadata": {},
   "outputs": [
    {
     "data": {
      "text/plain": [
       "{2, 400, 500.45, 800, 'dates', 'faniya'}"
      ]
     },
     "execution_count": 155,
     "metadata": {},
     "output_type": "execute_result"
    }
   ],
   "source": [
    "s1.discard(\"choclate\")\n",
    "s1"
   ]
  }
 ],
 "metadata": {
  "kernelspec": {
   "display_name": "Python 3 (ipykernel)",
   "language": "python",
   "name": "python3"
  },
  "language_info": {
   "codemirror_mode": {
    "name": "ipython",
    "version": 3
   },
   "file_extension": ".py",
   "mimetype": "text/x-python",
   "name": "python",
   "nbconvert_exporter": "python",
   "pygments_lexer": "ipython3",
   "version": "3.9.13"
  }
 },
 "nbformat": 4,
 "nbformat_minor": 5
}
